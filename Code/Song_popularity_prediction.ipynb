{
  "nbformat": 4,
  "nbformat_minor": 0,
  "metadata": {
    "colab": {
      "name": "Song popularity prediction.ipynb",
      "provenance": [],
      "collapsed_sections": []
    },
    "kernelspec": {
      "name": "python3",
      "display_name": "Python 3"
    },
    "language_info": {
      "name": "python"
    }
  },
  "cells": [
    {
      "cell_type": "code",
      "execution_count": null,
      "metadata": {
        "colab": {
          "base_uri": "https://localhost:8080/"
        },
        "id": "YMHKjhJsAljx",
        "outputId": "a08ed8c7-022b-48af-9d5c-d4e1e09a19b4"
      },
      "outputs": [
        {
          "output_type": "stream",
          "name": "stdout",
          "text": [
            "Drive already mounted at /content/drive; to attempt to forcibly remount, call drive.mount(\"/content/drive\", force_remount=True).\n"
          ]
        }
      ],
      "source": [
        "from google.colab import drive\n",
        "drive.mount('/content/drive')"
      ]
    },
    {
      "cell_type": "code",
      "source": [
        "import pandas as pd\n",
        "import numpy as np\n",
        "import seaborn as sns\n",
        "import matplotlib.pyplot as plt\n",
        "from sklearn.metrics import classification_report, accuracy_score\n",
        "from sklearn.model_selection import train_test_split\n",
        "from sklearn.metrics import confusion_matrix\n",
        "from sklearn.neural_network import MLPClassifier"
      ],
      "metadata": {
        "id": "Zntxd8nSAqCc"
      },
      "execution_count": null,
      "outputs": []
    },
    {
      "cell_type": "code",
      "source": [
        "df = pd.read_csv('drive/MyDrive/Dataset/MusicDataset.csv')\n",
        "df.head()"
      ],
      "metadata": {
        "colab": {
          "base_uri": "https://localhost:8080/",
          "height": 409
        },
        "id": "FJ6LLU3JA_Du",
        "outputId": "ee7214fa-6fb7-49d3-807c-426e82b95820"
      },
      "execution_count": null,
      "outputs": [
        {
          "output_type": "execute_result",
          "data": {
            "text/html": [
              "\n",
              "  <div id=\"df-f9a9ffa4-5586-430f-8482-221c0ab98645\">\n",
              "    <div class=\"colab-df-container\">\n",
              "      <div>\n",
              "<style scoped>\n",
              "    .dataframe tbody tr th:only-of-type {\n",
              "        vertical-align: middle;\n",
              "    }\n",
              "\n",
              "    .dataframe tbody tr th {\n",
              "        vertical-align: top;\n",
              "    }\n",
              "\n",
              "    .dataframe thead th {\n",
              "        text-align: right;\n",
              "    }\n",
              "</style>\n",
              "<table border=\"1\" class=\"dataframe\">\n",
              "  <thead>\n",
              "    <tr style=\"text-align: right;\">\n",
              "      <th></th>\n",
              "      <th>artist_familiarity</th>\n",
              "      <th>artist_hotttnesss</th>\n",
              "      <th>artist_id</th>\n",
              "      <th>artist_latitude</th>\n",
              "      <th>artist_location</th>\n",
              "      <th>artist_longitude</th>\n",
              "      <th>artist_name</th>\n",
              "      <th>duration</th>\n",
              "      <th>end_of_fade_in</th>\n",
              "      <th>key</th>\n",
              "      <th>key_confidence</th>\n",
              "      <th>loudness</th>\n",
              "      <th>mode</th>\n",
              "      <th>mode_confidence</th>\n",
              "      <th>release</th>\n",
              "      <th>song_hotttnesss</th>\n",
              "      <th>start_of_fade_out</th>\n",
              "      <th>tempo</th>\n",
              "      <th>time_signature</th>\n",
              "      <th>time_signature_confidence</th>\n",
              "      <th>title</th>\n",
              "      <th>year</th>\n",
              "      <th>bbhot</th>\n",
              "    </tr>\n",
              "  </thead>\n",
              "  <tbody>\n",
              "    <tr>\n",
              "      <th>0</th>\n",
              "      <td>0.780462</td>\n",
              "      <td>0.574275</td>\n",
              "      <td>ARMQHX71187B9890D3</td>\n",
              "      <td>NaN</td>\n",
              "      <td>Atlanta, GA</td>\n",
              "      <td>NaN</td>\n",
              "      <td>Mastodon</td>\n",
              "      <td>280.21506</td>\n",
              "      <td>0.238</td>\n",
              "      <td>5</td>\n",
              "      <td>0.555</td>\n",
              "      <td>-3.306</td>\n",
              "      <td>1</td>\n",
              "      <td>0.500</td>\n",
              "      <td>Call of the Mastodon</td>\n",
              "      <td>0.597641</td>\n",
              "      <td>275.528</td>\n",
              "      <td>173.205</td>\n",
              "      <td>5</td>\n",
              "      <td>0.120</td>\n",
              "      <td>Deep Sea Creature</td>\n",
              "      <td>2001</td>\n",
              "      <td>0</td>\n",
              "    </tr>\n",
              "    <tr>\n",
              "      <th>1</th>\n",
              "      <td>0.581794</td>\n",
              "      <td>0.401998</td>\n",
              "      <td>ARD7TVE1187B99BFB1</td>\n",
              "      <td>NaN</td>\n",
              "      <td>California - LA</td>\n",
              "      <td>NaN</td>\n",
              "      <td>Casual</td>\n",
              "      <td>218.93179</td>\n",
              "      <td>0.247</td>\n",
              "      <td>1</td>\n",
              "      <td>0.736</td>\n",
              "      <td>-11.197</td>\n",
              "      <td>0</td>\n",
              "      <td>0.636</td>\n",
              "      <td>Fear Itself</td>\n",
              "      <td>0.602120</td>\n",
              "      <td>218.932</td>\n",
              "      <td>92.198</td>\n",
              "      <td>4</td>\n",
              "      <td>0.778</td>\n",
              "      <td>I Didn't Mean To</td>\n",
              "      <td>0</td>\n",
              "      <td>0</td>\n",
              "    </tr>\n",
              "    <tr>\n",
              "      <th>2</th>\n",
              "      <td>0.630630</td>\n",
              "      <td>0.417500</td>\n",
              "      <td>ARMJAGH1187FB546F3</td>\n",
              "      <td>35.14968</td>\n",
              "      <td>Memphis, TN</td>\n",
              "      <td>-90.04892</td>\n",
              "      <td>The Box Tops</td>\n",
              "      <td>148.03546</td>\n",
              "      <td>0.148</td>\n",
              "      <td>6</td>\n",
              "      <td>0.169</td>\n",
              "      <td>-9.843</td>\n",
              "      <td>0</td>\n",
              "      <td>0.430</td>\n",
              "      <td>Dimensions</td>\n",
              "      <td>NaN</td>\n",
              "      <td>137.915</td>\n",
              "      <td>121.274</td>\n",
              "      <td>4</td>\n",
              "      <td>0.384</td>\n",
              "      <td>Soul Deep</td>\n",
              "      <td>1969</td>\n",
              "      <td>1</td>\n",
              "    </tr>\n",
              "    <tr>\n",
              "      <th>3</th>\n",
              "      <td>0.487357</td>\n",
              "      <td>0.343428</td>\n",
              "      <td>ARKRRTF1187B9984DA</td>\n",
              "      <td>NaN</td>\n",
              "      <td>NaN</td>\n",
              "      <td>NaN</td>\n",
              "      <td>Sonora Santanera</td>\n",
              "      <td>177.47546</td>\n",
              "      <td>0.282</td>\n",
              "      <td>8</td>\n",
              "      <td>0.643</td>\n",
              "      <td>-9.689</td>\n",
              "      <td>1</td>\n",
              "      <td>0.565</td>\n",
              "      <td>Las Numero 1 De La Sonora Santanera</td>\n",
              "      <td>NaN</td>\n",
              "      <td>172.304</td>\n",
              "      <td>100.070</td>\n",
              "      <td>1</td>\n",
              "      <td>0.000</td>\n",
              "      <td>Amor De Cabaret</td>\n",
              "      <td>0</td>\n",
              "      <td>0</td>\n",
              "    </tr>\n",
              "    <tr>\n",
              "      <th>4</th>\n",
              "      <td>0.630382</td>\n",
              "      <td>0.454231</td>\n",
              "      <td>AR7G5I41187FB4CE6C</td>\n",
              "      <td>NaN</td>\n",
              "      <td>London, England</td>\n",
              "      <td>NaN</td>\n",
              "      <td>Adam Ant</td>\n",
              "      <td>233.40363</td>\n",
              "      <td>0.000</td>\n",
              "      <td>0</td>\n",
              "      <td>0.751</td>\n",
              "      <td>-9.013</td>\n",
              "      <td>1</td>\n",
              "      <td>0.749</td>\n",
              "      <td>Friend Or Foe</td>\n",
              "      <td>NaN</td>\n",
              "      <td>217.124</td>\n",
              "      <td>119.293</td>\n",
              "      <td>4</td>\n",
              "      <td>0.000</td>\n",
              "      <td>Something Girls</td>\n",
              "      <td>1982</td>\n",
              "      <td>0</td>\n",
              "    </tr>\n",
              "  </tbody>\n",
              "</table>\n",
              "</div>\n",
              "      <button class=\"colab-df-convert\" onclick=\"convertToInteractive('df-f9a9ffa4-5586-430f-8482-221c0ab98645')\"\n",
              "              title=\"Convert this dataframe to an interactive table.\"\n",
              "              style=\"display:none;\">\n",
              "        \n",
              "  <svg xmlns=\"http://www.w3.org/2000/svg\" height=\"24px\"viewBox=\"0 0 24 24\"\n",
              "       width=\"24px\">\n",
              "    <path d=\"M0 0h24v24H0V0z\" fill=\"none\"/>\n",
              "    <path d=\"M18.56 5.44l.94 2.06.94-2.06 2.06-.94-2.06-.94-.94-2.06-.94 2.06-2.06.94zm-11 1L8.5 8.5l.94-2.06 2.06-.94-2.06-.94L8.5 2.5l-.94 2.06-2.06.94zm10 10l.94 2.06.94-2.06 2.06-.94-2.06-.94-.94-2.06-.94 2.06-2.06.94z\"/><path d=\"M17.41 7.96l-1.37-1.37c-.4-.4-.92-.59-1.43-.59-.52 0-1.04.2-1.43.59L10.3 9.45l-7.72 7.72c-.78.78-.78 2.05 0 2.83L4 21.41c.39.39.9.59 1.41.59.51 0 1.02-.2 1.41-.59l7.78-7.78 2.81-2.81c.8-.78.8-2.07 0-2.86zM5.41 20L4 18.59l7.72-7.72 1.47 1.35L5.41 20z\"/>\n",
              "  </svg>\n",
              "      </button>\n",
              "      \n",
              "  <style>\n",
              "    .colab-df-container {\n",
              "      display:flex;\n",
              "      flex-wrap:wrap;\n",
              "      gap: 12px;\n",
              "    }\n",
              "\n",
              "    .colab-df-convert {\n",
              "      background-color: #E8F0FE;\n",
              "      border: none;\n",
              "      border-radius: 50%;\n",
              "      cursor: pointer;\n",
              "      display: none;\n",
              "      fill: #1967D2;\n",
              "      height: 32px;\n",
              "      padding: 0 0 0 0;\n",
              "      width: 32px;\n",
              "    }\n",
              "\n",
              "    .colab-df-convert:hover {\n",
              "      background-color: #E2EBFA;\n",
              "      box-shadow: 0px 1px 2px rgba(60, 64, 67, 0.3), 0px 1px 3px 1px rgba(60, 64, 67, 0.15);\n",
              "      fill: #174EA6;\n",
              "    }\n",
              "\n",
              "    [theme=dark] .colab-df-convert {\n",
              "      background-color: #3B4455;\n",
              "      fill: #D2E3FC;\n",
              "    }\n",
              "\n",
              "    [theme=dark] .colab-df-convert:hover {\n",
              "      background-color: #434B5C;\n",
              "      box-shadow: 0px 1px 3px 1px rgba(0, 0, 0, 0.15);\n",
              "      filter: drop-shadow(0px 1px 2px rgba(0, 0, 0, 0.3));\n",
              "      fill: #FFFFFF;\n",
              "    }\n",
              "  </style>\n",
              "\n",
              "      <script>\n",
              "        const buttonEl =\n",
              "          document.querySelector('#df-f9a9ffa4-5586-430f-8482-221c0ab98645 button.colab-df-convert');\n",
              "        buttonEl.style.display =\n",
              "          google.colab.kernel.accessAllowed ? 'block' : 'none';\n",
              "\n",
              "        async function convertToInteractive(key) {\n",
              "          const element = document.querySelector('#df-f9a9ffa4-5586-430f-8482-221c0ab98645');\n",
              "          const dataTable =\n",
              "            await google.colab.kernel.invokeFunction('convertToInteractive',\n",
              "                                                     [key], {});\n",
              "          if (!dataTable) return;\n",
              "\n",
              "          const docLinkHtml = 'Like what you see? Visit the ' +\n",
              "            '<a target=\"_blank\" href=https://colab.research.google.com/notebooks/data_table.ipynb>data table notebook</a>'\n",
              "            + ' to learn more about interactive tables.';\n",
              "          element.innerHTML = '';\n",
              "          dataTable['output_type'] = 'display_data';\n",
              "          await google.colab.output.renderOutput(dataTable, element);\n",
              "          const docLink = document.createElement('div');\n",
              "          docLink.innerHTML = docLinkHtml;\n",
              "          element.appendChild(docLink);\n",
              "        }\n",
              "      </script>\n",
              "    </div>\n",
              "  </div>\n",
              "  "
            ],
            "text/plain": [
              "   artist_familiarity  artist_hotttnesss  ...  year  bbhot\n",
              "0            0.780462           0.574275  ...  2001      0\n",
              "1            0.581794           0.401998  ...     0      0\n",
              "2            0.630630           0.417500  ...  1969      1\n",
              "3            0.487357           0.343428  ...     0      0\n",
              "4            0.630382           0.454231  ...  1982      0\n",
              "\n",
              "[5 rows x 23 columns]"
            ]
          },
          "metadata": {},
          "execution_count": 3
        }
      ]
    },
    {
      "cell_type": "code",
      "source": [
        "df.shape"
      ],
      "metadata": {
        "colab": {
          "base_uri": "https://localhost:8080/"
        },
        "id": "XnUgIDmFBG2z",
        "outputId": "9ba1644a-0b77-44c4-ce5b-737140bd588b"
      },
      "execution_count": null,
      "outputs": [
        {
          "output_type": "execute_result",
          "data": {
            "text/plain": [
              "(10001, 23)"
            ]
          },
          "metadata": {},
          "execution_count": 4
        }
      ]
    },
    {
      "cell_type": "code",
      "source": [
        "df.isnull().sum()"
      ],
      "metadata": {
        "colab": {
          "base_uri": "https://localhost:8080/"
        },
        "id": "qw00QvpcBKhM",
        "outputId": "26c86a99-c6d2-4512-b2ac-6c83b7bede51"
      },
      "execution_count": null,
      "outputs": [
        {
          "output_type": "execute_result",
          "data": {
            "text/plain": [
              "artist_familiarity              4\n",
              "artist_hotttnesss               0\n",
              "artist_id                       0\n",
              "artist_latitude              6259\n",
              "artist_location              4292\n",
              "artist_longitude             6259\n",
              "artist_name                     0\n",
              "duration                        0\n",
              "end_of_fade_in                  0\n",
              "key                             0\n",
              "key_confidence                  0\n",
              "loudness                        0\n",
              "mode                            0\n",
              "mode_confidence                 0\n",
              "release                         0\n",
              "song_hotttnesss              4352\n",
              "start_of_fade_out               0\n",
              "tempo                           0\n",
              "time_signature                  0\n",
              "time_signature_confidence       0\n",
              "title                           1\n",
              "year                            0\n",
              "bbhot                           0\n",
              "dtype: int64"
            ]
          },
          "metadata": {},
          "execution_count": 5
        }
      ]
    },
    {
      "cell_type": "code",
      "source": [
        "drop_list = ['artist_location', 'artist_latitude', 'artist_longitude','artist_name', 'release', 'title']\n",
        "train = df.drop(drop_list, axis=1)"
      ],
      "metadata": {
        "id": "4MpL7iLaBUYo"
      },
      "execution_count": null,
      "outputs": []
    },
    {
      "cell_type": "code",
      "source": [
        "# Filling up the null values:\n",
        "\n",
        "train[\"song_hotttnesss\"] = train[\"song_hotttnesss\"].fillna(train[\"song_hotttnesss\"].mean())\n",
        "train[\"artist_familiarity\"] = train[\"artist_familiarity\"].fillna(train[\"artist_familiarity\"].median())\n",
        "train.isnull().sum()"
      ],
      "metadata": {
        "colab": {
          "base_uri": "https://localhost:8080/"
        },
        "id": "U8CAhvJiBUbB",
        "outputId": "f8572f43-b450-431a-f9a4-bcba47025f34"
      },
      "execution_count": null,
      "outputs": [
        {
          "output_type": "execute_result",
          "data": {
            "text/plain": [
              "artist_familiarity           0\n",
              "artist_hotttnesss            0\n",
              "artist_id                    0\n",
              "duration                     0\n",
              "end_of_fade_in               0\n",
              "key                          0\n",
              "key_confidence               0\n",
              "loudness                     0\n",
              "mode                         0\n",
              "mode_confidence              0\n",
              "song_hotttnesss              0\n",
              "start_of_fade_out            0\n",
              "tempo                        0\n",
              "time_signature               0\n",
              "time_signature_confidence    0\n",
              "year                         0\n",
              "bbhot                        0\n",
              "dtype: int64"
            ]
          },
          "metadata": {},
          "execution_count": 7
        }
      ]
    },
    {
      "cell_type": "code",
      "source": [
        "train['bbhot'].value_counts()"
      ],
      "metadata": {
        "colab": {
          "base_uri": "https://localhost:8080/"
        },
        "id": "UCgdtrwmIxee",
        "outputId": "ec6e6e30-3155-4d67-8046-70cb5d2a0bb3"
      },
      "execution_count": null,
      "outputs": [
        {
          "output_type": "execute_result",
          "data": {
            "text/plain": [
              "0    8809\n",
              "1    1192\n",
              "Name: bbhot, dtype: int64"
            ]
          },
          "metadata": {},
          "execution_count": 8
        }
      ]
    },
    {
      "cell_type": "code",
      "source": [
        "#graph distribution of an attribute of songs that are hot\n",
        "def freq(col):\n",
        "   g = sns.kdeplot(train[col][(train[\"bbhot\"] == 1)], color=\"Blue\", shade = True)\n",
        "   g.set_xlabel(col)\n",
        "   g.set_ylabel(\"Frequency\")\n",
        "   g = g.legend([\"1\"])\n",
        "   plt.show()"
      ],
      "metadata": {
        "id": "_S5miZh8BUdJ"
      },
      "execution_count": null,
      "outputs": []
    },
    {
      "cell_type": "code",
      "source": [
        "freq(\"tempo\")"
      ],
      "metadata": {
        "colab": {
          "base_uri": "https://localhost:8080/",
          "height": 279
        },
        "id": "rRpvV7MuBUfW",
        "outputId": "9a970e48-322a-42c1-cfdc-a348d270cb05"
      },
      "execution_count": null,
      "outputs": [
        {
          "output_type": "display_data",
          "data": {
            "image/png": "[encoded data removed]",
            "text/plain": [
              "<Figure size 432x288 with 1 Axes>"
            ]
          },
          "metadata": {
            "needs_background": "light"
          }
        }
      ]
    },
    {
      "cell_type": "code",
      "source": [
        "freq(\"duration\")"
      ],
      "metadata": {
        "colab": {
          "base_uri": "https://localhost:8080/",
          "height": 279
        },
        "id": "kxF154H9BUhb",
        "outputId": "e7f01db8-0bc8-4e6f-8bfb-91458873a6fb"
      },
      "execution_count": null,
      "outputs": [
        {
          "output_type": "display_data",
          "data": {
            "image/png": "[encoded data removed]",
            "text/plain": [
              "<Figure size 432x288 with 1 Axes>"
            ]
          },
          "metadata": {
            "needs_background": "light"
          }
        }
      ]
    },
    {
      "cell_type": "code",
      "source": [
        "freq(\"start_of_fade_out\")"
      ],
      "metadata": {
        "colab": {
          "base_uri": "https://localhost:8080/",
          "height": 281
        },
        "id": "4xEu6fljBUjk",
        "outputId": "9f28bb30-d4f3-4830-a1c3-68e85241e764"
      },
      "execution_count": null,
      "outputs": [
        {
          "output_type": "display_data",
          "data": {
            "image/png": "[encoded data removed]",
            "text/plain": [
              "<Figure size 432x288 with 1 Axes>"
            ]
          },
          "metadata": {
            "needs_background": "light"
          }
        }
      ]
    },
    {
      "cell_type": "code",
      "source": [
        "freq(\"end_of_fade_in\")"
      ],
      "metadata": {
        "colab": {
          "base_uri": "https://localhost:8080/",
          "height": 280
        },
        "id": "FNtFroTFBUlv",
        "outputId": "38f6d668-5308-4f12-dffb-7273f5bc078e"
      },
      "execution_count": null,
      "outputs": [
        {
          "output_type": "display_data",
          "data": {
            "image/png": "[encoded data removed]",
            "text/plain": [
              "<Figure size 432x288 with 1 Axes>"
            ]
          },
          "metadata": {
            "needs_background": "light"
          }
        }
      ]
    },
    {
      "cell_type": "code",
      "source": [
        "freq(\"mode_confidence\")"
      ],
      "metadata": {
        "colab": {
          "base_uri": "https://localhost:8080/",
          "height": 280
        },
        "id": "iUQ9DNRLBUoL",
        "outputId": "d744085b-25db-4dcd-e935-9d2493e65f6d"
      },
      "execution_count": null,
      "outputs": [
        {
          "output_type": "display_data",
          "data": {
            "image/png": "[encoded data removed]",
            "text/plain": [
              "<Figure size 432x288 with 1 Axes>"
            ]
          },
          "metadata": {
            "needs_background": "light"
          }
        }
      ]
    },
    {
      "cell_type": "code",
      "source": [
        "freq(\"time_signature_confidence\")"
      ],
      "metadata": {
        "colab": {
          "base_uri": "https://localhost:8080/",
          "height": 280
        },
        "id": "POoPljluBUqS",
        "outputId": "97be77f8-30a2-44b7-c782-91a536563847"
      },
      "execution_count": null,
      "outputs": [
        {
          "output_type": "display_data",
          "data": {
            "image/png": "[encoded data removed]",
            "text/plain": [
              "<Figure size 432x288 with 1 Axes>"
            ]
          },
          "metadata": {
            "needs_background": "light"
          }
        }
      ]
    },
    {
      "cell_type": "code",
      "source": [
        "freq(\"song_hotttnesss\")"
      ],
      "metadata": {
        "colab": {
          "base_uri": "https://localhost:8080/",
          "height": 280
        },
        "id": "q8TloqKXGBr6",
        "outputId": "2cba3b4a-64bb-4ccb-9a40-30e4397e6b2e"
      },
      "execution_count": null,
      "outputs": [
        {
          "output_type": "display_data",
          "data": {
            "image/png": "[encoded data removed]",
            "text/plain": [
              "<Figure size 432x288 with 1 Axes>"
            ]
          },
          "metadata": {
            "needs_background": "light"
          }
        }
      ]
    },
    {
      "cell_type": "code",
      "source": [
        "train1 = train.drop(['artist_id', 'bbhot'], axis = 1)"
      ],
      "metadata": {
        "id": "9Y2c08OuHGdy"
      },
      "execution_count": null,
      "outputs": []
    },
    {
      "cell_type": "code",
      "source": [
        "train2 = train1.drop(['end_of_fade_in', 'key', 'key_confidence', 'mode', 'mode_confidence', 'year'], axis = 1)"
      ],
      "metadata": {
        "id": "IPtP9ljXV921"
      },
      "execution_count": null,
      "outputs": []
    },
    {
      "cell_type": "code",
      "source": [
        "train2.head()"
      ],
      "metadata": {
        "colab": {
          "base_uri": "https://localhost:8080/",
          "height": 206
        },
        "id": "QFSKIEGAIUjG",
        "outputId": "59cac12c-613c-47dd-a2fb-c313f3430703"
      },
      "execution_count": null,
      "outputs": [
        {
          "output_type": "execute_result",
          "data": {
            "text/html": [
              "\n",
              "  <div id=\"df-2605f96b-20cb-4957-98e0-60566c19aeac\">\n",
              "    <div class=\"colab-df-container\">\n",
              "      <div>\n",
              "<style scoped>\n",
              "    .dataframe tbody tr th:only-of-type {\n",
              "        vertical-align: middle;\n",
              "    }\n",
              "\n",
              "    .dataframe tbody tr th {\n",
              "        vertical-align: top;\n",
              "    }\n",
              "\n",
              "    .dataframe thead th {\n",
              "        text-align: right;\n",
              "    }\n",
              "</style>\n",
              "<table border=\"1\" class=\"dataframe\">\n",
              "  <thead>\n",
              "    <tr style=\"text-align: right;\">\n",
              "      <th></th>\n",
              "      <th>artist_familiarity</th>\n",
              "      <th>artist_hotttnesss</th>\n",
              "      <th>duration</th>\n",
              "      <th>loudness</th>\n",
              "      <th>song_hotttnesss</th>\n",
              "      <th>start_of_fade_out</th>\n",
              "      <th>tempo</th>\n",
              "      <th>time_signature</th>\n",
              "      <th>time_signature_confidence</th>\n",
              "    </tr>\n",
              "  </thead>\n",
              "  <tbody>\n",
              "    <tr>\n",
              "      <th>0</th>\n",
              "      <td>0.780462</td>\n",
              "      <td>0.574275</td>\n",
              "      <td>280.21506</td>\n",
              "      <td>-3.306</td>\n",
              "      <td>0.597641</td>\n",
              "      <td>275.528</td>\n",
              "      <td>173.205</td>\n",
              "      <td>5</td>\n",
              "      <td>0.120</td>\n",
              "    </tr>\n",
              "    <tr>\n",
              "      <th>1</th>\n",
              "      <td>0.581794</td>\n",
              "      <td>0.401998</td>\n",
              "      <td>218.93179</td>\n",
              "      <td>-11.197</td>\n",
              "      <td>0.602120</td>\n",
              "      <td>218.932</td>\n",
              "      <td>92.198</td>\n",
              "      <td>4</td>\n",
              "      <td>0.778</td>\n",
              "    </tr>\n",
              "    <tr>\n",
              "      <th>2</th>\n",
              "      <td>0.630630</td>\n",
              "      <td>0.417500</td>\n",
              "      <td>148.03546</td>\n",
              "      <td>-9.843</td>\n",
              "      <td>0.342867</td>\n",
              "      <td>137.915</td>\n",
              "      <td>121.274</td>\n",
              "      <td>4</td>\n",
              "      <td>0.384</td>\n",
              "    </tr>\n",
              "    <tr>\n",
              "      <th>3</th>\n",
              "      <td>0.487357</td>\n",
              "      <td>0.343428</td>\n",
              "      <td>177.47546</td>\n",
              "      <td>-9.689</td>\n",
              "      <td>0.342867</td>\n",
              "      <td>172.304</td>\n",
              "      <td>100.070</td>\n",
              "      <td>1</td>\n",
              "      <td>0.000</td>\n",
              "    </tr>\n",
              "    <tr>\n",
              "      <th>4</th>\n",
              "      <td>0.630382</td>\n",
              "      <td>0.454231</td>\n",
              "      <td>233.40363</td>\n",
              "      <td>-9.013</td>\n",
              "      <td>0.342867</td>\n",
              "      <td>217.124</td>\n",
              "      <td>119.293</td>\n",
              "      <td>4</td>\n",
              "      <td>0.000</td>\n",
              "    </tr>\n",
              "  </tbody>\n",
              "</table>\n",
              "</div>\n",
              "      <button class=\"colab-df-convert\" onclick=\"convertToInteractive('df-2605f96b-20cb-4957-98e0-60566c19aeac')\"\n",
              "              title=\"Convert this dataframe to an interactive table.\"\n",
              "              style=\"display:none;\">\n",
              "        \n",
              "  <svg xmlns=\"http://www.w3.org/2000/svg\" height=\"24px\"viewBox=\"0 0 24 24\"\n",
              "       width=\"24px\">\n",
              "    <path d=\"M0 0h24v24H0V0z\" fill=\"none\"/>\n",
              "    <path d=\"M18.56 5.44l.94 2.06.94-2.06 2.06-.94-2.06-.94-.94-2.06-.94 2.06-2.06.94zm-11 1L8.5 8.5l.94-2.06 2.06-.94-2.06-.94L8.5 2.5l-.94 2.06-2.06.94zm10 10l.94 2.06.94-2.06 2.06-.94-2.06-.94-.94-2.06-.94 2.06-2.06.94z\"/><path d=\"M17.41 7.96l-1.37-1.37c-.4-.4-.92-.59-1.43-.59-.52 0-1.04.2-1.43.59L10.3 9.45l-7.72 7.72c-.78.78-.78 2.05 0 2.83L4 21.41c.39.39.9.59 1.41.59.51 0 1.02-.2 1.41-.59l7.78-7.78 2.81-2.81c.8-.78.8-2.07 0-2.86zM5.41 20L4 18.59l7.72-7.72 1.47 1.35L5.41 20z\"/>\n",
              "  </svg>\n",
              "      </button>\n",
              "      \n",
              "  <style>\n",
              "    .colab-df-container {\n",
              "      display:flex;\n",
              "      flex-wrap:wrap;\n",
              "      gap: 12px;\n",
              "    }\n",
              "\n",
              "    .colab-df-convert {\n",
              "      background-color: #E8F0FE;\n",
              "      border: none;\n",
              "      border-radius: 50%;\n",
              "      cursor: pointer;\n",
              "      display: none;\n",
              "      fill: #1967D2;\n",
              "      height: 32px;\n",
              "      padding: 0 0 0 0;\n",
              "      width: 32px;\n",
              "    }\n",
              "\n",
              "    .colab-df-convert:hover {\n",
              "      background-color: #E2EBFA;\n",
              "      box-shadow: 0px 1px 2px rgba(60, 64, 67, 0.3), 0px 1px 3px 1px rgba(60, 64, 67, 0.15);\n",
              "      fill: #174EA6;\n",
              "    }\n",
              "\n",
              "    [theme=dark] .colab-df-convert {\n",
              "      background-color: #3B4455;\n",
              "      fill: #D2E3FC;\n",
              "    }\n",
              "\n",
              "    [theme=dark] .colab-df-convert:hover {\n",
              "      background-color: #434B5C;\n",
              "      box-shadow: 0px 1px 3px 1px rgba(0, 0, 0, 0.15);\n",
              "      filter: drop-shadow(0px 1px 2px rgba(0, 0, 0, 0.3));\n",
              "      fill: #FFFFFF;\n",
              "    }\n",
              "  </style>\n",
              "\n",
              "      <script>\n",
              "        const buttonEl =\n",
              "          document.querySelector('#df-2605f96b-20cb-4957-98e0-60566c19aeac button.colab-df-convert');\n",
              "        buttonEl.style.display =\n",
              "          google.colab.kernel.accessAllowed ? 'block' : 'none';\n",
              "\n",
              "        async function convertToInteractive(key) {\n",
              "          const element = document.querySelector('#df-2605f96b-20cb-4957-98e0-60566c19aeac');\n",
              "          const dataTable =\n",
              "            await google.colab.kernel.invokeFunction('convertToInteractive',\n",
              "                                                     [key], {});\n",
              "          if (!dataTable) return;\n",
              "\n",
              "          const docLinkHtml = 'Like what you see? Visit the ' +\n",
              "            '<a target=\"_blank\" href=https://colab.research.google.com/notebooks/data_table.ipynb>data table notebook</a>'\n",
              "            + ' to learn more about interactive tables.';\n",
              "          element.innerHTML = '';\n",
              "          dataTable['output_type'] = 'display_data';\n",
              "          await google.colab.output.renderOutput(dataTable, element);\n",
              "          const docLink = document.createElement('div');\n",
              "          docLink.innerHTML = docLinkHtml;\n",
              "          element.appendChild(docLink);\n",
              "        }\n",
              "      </script>\n",
              "    </div>\n",
              "  </div>\n",
              "  "
            ],
            "text/plain": [
              "   artist_familiarity  ...  time_signature_confidence\n",
              "0            0.780462  ...                      0.120\n",
              "1            0.581794  ...                      0.778\n",
              "2            0.630630  ...                      0.384\n",
              "3            0.487357  ...                      0.000\n",
              "4            0.630382  ...                      0.000\n",
              "\n",
              "[5 rows x 9 columns]"
            ]
          },
          "metadata": {},
          "execution_count": 19
        }
      ]
    },
    {
      "cell_type": "code",
      "source": [
        "train2.columns"
      ],
      "metadata": {
        "colab": {
          "base_uri": "https://localhost:8080/"
        },
        "id": "F-ctBoz4LaJg",
        "outputId": "d98f0e79-e888-45fd-a427-c20a1cbc7bd9"
      },
      "execution_count": null,
      "outputs": [
        {
          "output_type": "execute_result",
          "data": {
            "text/plain": [
              "Index(['artist_familiarity', 'artist_hotttnesss', 'duration', 'loudness',\n",
              "       'song_hotttnesss', 'start_of_fade_out', 'tempo', 'time_signature',\n",
              "       'time_signature_confidence'],\n",
              "      dtype='object')"
            ]
          },
          "metadata": {},
          "execution_count": 20
        }
      ]
    },
    {
      "cell_type": "code",
      "source": [
        "Y = train['bbhot'].copy(deep=True)\n",
        "Y.shape"
      ],
      "metadata": {
        "colab": {
          "base_uri": "https://localhost:8080/"
        },
        "id": "vBFkJA_tGBuZ",
        "outputId": "09bc9654-d89b-4291-b1df-02ce38650311"
      },
      "execution_count": null,
      "outputs": [
        {
          "output_type": "execute_result",
          "data": {
            "text/plain": [
              "(10001,)"
            ]
          },
          "metadata": {},
          "execution_count": 21
        }
      ]
    },
    {
      "cell_type": "code",
      "source": [
        "X_train, X_test, y_train, y_test = train_test_split(train2, Y, test_size=0.3, random_state=0)"
      ],
      "metadata": {
        "id": "cwlJNovbGBxP"
      },
      "execution_count": null,
      "outputs": []
    },
    {
      "cell_type": "code",
      "source": [
        "clf1 = MLPClassifier(hidden_layer_sizes=(200,150,50), max_iter=200,activation = 'relu',solver='adam',random_state=1)\n",
        "clf1.fit(X_train, y_train)\n",
        "\n",
        "print(clf1.score(X_train, y_train))"
      ],
      "metadata": {
        "colab": {
          "base_uri": "https://localhost:8080/"
        },
        "id": "f8Fz6pw2GBzo",
        "outputId": "a801bac8-822c-4e6f-e99a-64aa0c55abf9"
      },
      "execution_count": null,
      "outputs": [
        {
          "output_type": "stream",
          "name": "stdout",
          "text": [
            "0.8791428571428571\n"
          ]
        }
      ]
    },
    {
      "cell_type": "code",
      "source": [
        "#Predicting y for X_val\n",
        "y_pred = clf1.predict(X_test)\n",
        "clf1.score(X_test, y_test)"
      ],
      "metadata": {
        "colab": {
          "base_uri": "https://localhost:8080/"
        },
        "id": "HjeJSmRZGB1v",
        "outputId": "78e743c7-970f-4bb8-8534-3f304eaad2ee"
      },
      "execution_count": null,
      "outputs": [
        {
          "output_type": "execute_result",
          "data": {
            "text/plain": [
              "0.8847050983005664"
            ]
          },
          "metadata": {},
          "execution_count": 25
        }
      ]
    },
    {
      "cell_type": "code",
      "source": [
        "# Model evaluation\n",
        "print(classification_report(y_test, y_pred))"
      ],
      "metadata": {
        "colab": {
          "base_uri": "https://localhost:8080/"
        },
        "id": "p9xHEaLiHZHb",
        "outputId": "3c3c7cd8-fe6b-4866-c719-e2572867d5c1"
      },
      "execution_count": null,
      "outputs": [
        {
          "output_type": "stream",
          "name": "stdout",
          "text": [
            "              precision    recall  f1-score   support\n",
            "\n",
            "           0       0.88      1.00      0.94      2655\n",
            "           1       0.00      0.00      0.00       346\n",
            "\n",
            "    accuracy                           0.88      3001\n",
            "   macro avg       0.44      0.50      0.47      3001\n",
            "weighted avg       0.78      0.88      0.83      3001\n",
            "\n"
          ]
        },
        {
          "output_type": "stream",
          "name": "stderr",
          "text": [
            "/usr/local/lib/python3.7/dist-packages/sklearn/metrics/_classification.py:1318: UndefinedMetricWarning: Precision and F-score are ill-defined and being set to 0.0 in labels with no predicted samples. Use `zero_division` parameter to control this behavior.\n",
            "  _warn_prf(average, modifier, msg_start, len(result))\n",
            "/usr/local/lib/python3.7/dist-packages/sklearn/metrics/_classification.py:1318: UndefinedMetricWarning: Precision and F-score are ill-defined and being set to 0.0 in labels with no predicted samples. Use `zero_division` parameter to control this behavior.\n",
            "  _warn_prf(average, modifier, msg_start, len(result))\n",
            "/usr/local/lib/python3.7/dist-packages/sklearn/metrics/_classification.py:1318: UndefinedMetricWarning: Precision and F-score are ill-defined and being set to 0.0 in labels with no predicted samples. Use `zero_division` parameter to control this behavior.\n",
            "  _warn_prf(average, modifier, msg_start, len(result))\n"
          ]
        }
      ]
    },
    {
      "cell_type": "code",
      "source": [
        "# Plotting graph for MLPClassifier\n",
        "\n",
        "loss_values = clf1.loss_curve_\n",
        "plt.plot(loss_values)\n",
        "plt.show()"
      ],
      "metadata": {
        "colab": {
          "base_uri": "https://localhost:8080/",
          "height": 265
        },
        "id": "LJR0EpePHg0E",
        "outputId": "4bbecfcd-a827-4b19-b87d-8e0cbd14a48f"
      },
      "execution_count": null,
      "outputs": [
        {
          "output_type": "display_data",
          "data": {
            "image/png": "[encoded data removed]",
            "text/plain": [
              "<Figure size 432x288 with 1 Axes>"
            ]
          },
          "metadata": {
            "needs_background": "light"
          }
        }
      ]
    },
    {
      "cell_type": "code",
      "source": [
        "import pickle\n",
        "\n",
        "pickle.dump(clf1, open('drive/MyDrive/Dataset/DataScience-Pianalytix-Models/music-popularity-model.pkl', 'wb'))"
      ],
      "metadata": {
        "id": "PYi-r52-BMlr"
      },
      "execution_count": null,
      "outputs": []
    },
    {
      "cell_type": "code",
      "source": [
        ""
      ],
      "metadata": {
        "id": "4XHAZlqPH2Dr"
      },
      "execution_count": null,
      "outputs": []
    }
  ]
}